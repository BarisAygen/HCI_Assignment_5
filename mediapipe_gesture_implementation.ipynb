{
 "cells": [
  {
   "cell_type": "code",
   "execution_count": 1,
   "metadata": {},
   "outputs": [],
   "source": [
    "import threading\n",
    "import cv2\n",
    "import mediaPipeHandler as mph\n",
    "import time\n",
    "import gestures"
   ]
  },
  {
   "cell_type": "code",
   "execution_count": 2,
   "metadata": {},
   "outputs": [],
   "source": [
    "# Zoom-In and Zoom-Out\n",
    "zoom_factor = 1.0  # Initial zoom level\n",
    "zoom_increment = 0.1  # Zoom sensitivity"
   ]
  },
  {
   "cell_type": "code",
   "execution_count": 3,
   "metadata": {},
   "outputs": [],
   "source": [
    "# Printing Commands on the screen \n",
    "def print_command(frame,command_text):\n",
    "    cv2.putText(frame, command_text, (50,50), cv2.FONT_HERSHEY_SIMPLEX, 1, (0, 255, 0), 2)"
   ]
  },
  {
   "cell_type": "code",
   "execution_count": 4,
   "metadata": {},
   "outputs": [],
   "source": [
    "def gesture_detection(stop_event):\n",
    "    # Ripple Trail Configuration\n",
    "    trail = []\n",
    "\n",
    "    # Define trail properties\n",
    "    trail_max_length = 10  # Maximum number of points in the trail\n",
    "    trail_color = (0, 255, 0)  # Green color\n",
    "    trail_start_radius = 10  # Initial circle radius\n",
    "    # Open the camera\n",
    "    camera = cv2.VideoCapture(0)\n",
    "\n",
    "    # previous_index of x and y are stored for scroll direction check.\n",
    "    previous_index_x = None\n",
    "    previous_index_y = None\n",
    "    previous_distance = None\n",
    "\n",
    "    last_gesture_time = time.time()\n",
    "\n",
    "    while not stop_event.is_set():\n",
    "        isCapturedFrameSuccessful, frame = camera.read()\n",
    "        if not isCapturedFrameSuccessful:\n",
    "            break\n",
    "\n",
    "        frame = cv2.flip(frame, 1)\n",
    "        framergb = cv2.cvtColor(frame, cv2.COLOR_BGR2RGB)\n",
    "\n",
    "        # Process hand landmarks\n",
    "        hand_process_result = mph.hands.process(framergb)\n",
    "\n",
    "        if hand_process_result.multi_hand_landmarks:\n",
    "            for hand_landmarks in hand_process_result.multi_hand_landmarks:\n",
    "                landmarks = []\n",
    "                for idx, lm in enumerate(hand_landmarks.landmark):  # Iterate through each landmark\n",
    "                    x = int(lm.x * frame.shape[1])  # Get x coordinate\n",
    "                    y = int(lm.y * frame.shape[0])  # Get y coordinate\n",
    "                    landmarks.append([x, y])\n",
    "\n",
    "                # Draw connections first\n",
    "                mph.mpDraw.draw_landmarks(frame, hand_landmarks, mph.mpHands.HAND_CONNECTIONS, mph.default_landmark_spec, mph.default_connection_spec)\n",
    "\n",
    "                # Draw the filled green circle for the index finger tip (after drawing connections)\n",
    "                index_tip = landmarks[8]  # Index finger tip\n",
    "\n",
    "                cv2.circle(frame, (index_tip[0], index_tip[1]), 5, (0, 255, 0), -1)  # Filled green circle\n",
    "\n",
    "                # Add the index finger position to the trail\n",
    "                trail.append(index_tip)\n",
    "\n",
    "                # Limit the trail length\n",
    "                if len(trail) > trail_max_length:\n",
    "                    trail.pop(0)\n",
    "\n",
    "                # Draw the ripple trail\n",
    "                for i, point in enumerate(trail):\n",
    "                    # Calculate the radius and opacity for each circle\n",
    "                    radius = trail_start_radius - int((i / trail_max_length) * trail_start_radius)\n",
    "                    opacity = int(255 * (1 - (i / trail_max_length)))\n",
    "                    color = (trail_color[0], trail_color[1], trail_color[2], opacity)  # RGBA\n",
    "\n",
    "                    # Draw the fading circle\n",
    "                    cv2.circle(frame, point, radius, trail_color, 1)\n",
    "\n",
    "                # Detect gestures\n",
    "                if gestures.is_click_gesture(landmarks) and time.time() - last_gesture_time > 1:\n",
    "                    print_command(frame, \"Click\")\n",
    "                    last_gesture_time = time.time()\n",
    "\n",
    "                elif gestures.is_scroll_gesture(landmarks) and time.time() - last_gesture_time > 1:\n",
    "                    direction, previous_index_x, previous_index_y = gestures.detect_scroll_direction(landmarks, previous_index_x, previous_index_y)\n",
    "                    if direction != \"none\":\n",
    "                        print_command(frame, \"Scrolling: \" + direction)\n",
    "                        last_gesture_time = time.time()\n",
    "\n",
    "                elif gestures.is_zoom_detected(landmarks) and time.time() - last_gesture_time > 1:\n",
    "                    zoom_direction, previous_distance = gestures.detect_zoom_direction(landmarks, previous_distance)\n",
    "                    if zoom_direction != \"\":\n",
    "                        print_command(frame, \"Zooming: \" + zoom_direction)\n",
    "                        last_gesture_time = time.time()\n",
    "\n",
    "                \n",
    "\n",
    "        # Display the frame\n",
    "        cv2.imshow(\"Output\", frame)\n",
    "        if cv2.waitKey(1) == ord('q') or stop_event.is_set():\n",
    "            stop_event.set()\n",
    "            break\n",
    "\n",
    "    camera.release()\n",
    "    cv2.destroyAllWindows()\n"
   ]
  },
  {
   "cell_type": "code",
   "execution_count": 5,
   "metadata": {},
   "outputs": [
    {
     "name": "stdout",
     "output_type": "stream",
     "text": [
      "Application exited gracefully.\n"
     ]
    }
   ],
   "source": [
    "stop_event = threading.Event()\n",
    "\n",
    "# Start the gesture detection in a separate thread\n",
    "gesture_thread = threading.Thread(target=gesture_detection, args=(stop_event,), daemon=True)\n",
    "gesture_thread.start()\n",
    "\n",
    "# Main UI code (Example loop)\n",
    "try:\n",
    "    while not stop_event.is_set():\n",
    "        time.sleep(1)\n",
    "\n",
    "        # Check for quit key press to stop both threads\n",
    "        if cv2.waitKey(1) == ord('q'):\n",
    "            stop_event.set()\n",
    "            break\n",
    "finally:\n",
    "    # Ensure the gesture thread is properly terminated\n",
    "    gesture_thread.join()\n",
    "    print(\"Application exited gracefully.\")"
   ]
  }
 ],
 "metadata": {
  "kernelspec": {
   "display_name": "Python 3",
   "language": "python",
   "name": "python3"
  },
  "language_info": {
   "codemirror_mode": {
    "name": "ipython",
    "version": 3
   },
   "file_extension": ".py",
   "mimetype": "text/x-python",
   "name": "python",
   "nbconvert_exporter": "python",
   "pygments_lexer": "ipython3",
   "version": "3.11.9"
  }
 },
 "nbformat": 4,
 "nbformat_minor": 2
}
